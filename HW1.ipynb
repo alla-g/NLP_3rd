{
 "cells": [
  {
   "cell_type": "code",
   "execution_count": 239,
   "metadata": {},
   "outputs": [],
   "source": [
    "import requests\n",
    "import re\n",
    "import time\n",
    "from nltk import word_tokenize\n",
    "from bs4 import BeautifulSoup\n",
    "from pprint import pprint\n",
    "from sklearn.metrics import accuracy_score\n",
    "from collections import Counter\n",
    "from fake_useragent import UserAgent\n",
    "from pymorphy2 import MorphAnalyzer\n",
    "ua = UserAgent(verify_ssl=False)\n",
    "session = requests.session()\n",
    "morph = MorphAnalyzer()"
   ]
  },
  {
   "cell_type": "markdown",
   "metadata": {},
   "source": [
    "апд: у 30-ти хороших отзывов оче мало частотных слов, возьму больше. Люди не любят хвалить    \n",
    "\n",
    "Всего мне нужно по **35 хороших и плохих отзывов** (по 30 для тренировки и 5 для проверки). На одной странице сайта отображается **30** отзывов, так что мне хватит всего двух страниц.  \n",
    "**Плохие отзывы:**  \n",
    "https://www.otzyvru.com/pochta-rossii?rating=1  \n",
    "**Хорошие отзывы:**  \n",
    "https://www.otzyvru.com/pochta-rossii?rating=5"
   ]
  },
  {
   "cell_type": "code",
   "execution_count": 240,
   "metadata": {},
   "outputs": [],
   "source": [
    "a = 'https://www.otzyvru.com/pochta-rossii?rating=5'\n",
    "b = 'https://www.otzyvru.com/pochta-rossii?rating=5&page=2'\n",
    "c = 'https://www.otzyvru.com/pochta-rossii?rating=1'\n",
    "d = 'https://www.otzyvru.com/pochta-rossii?rating=1&page=2'\n",
    "good_links = [a, b]\n",
    "bad_links = [c, d]"
   ]
  },
  {
   "cell_type": "code",
   "execution_count": 241,
   "metadata": {},
   "outputs": [],
   "source": [
    "# собирает список ссылок с одной страницы\n",
    "def parse_page(link, number):\n",
    "    responce = session.get(link)\n",
    "    html = responce.text\n",
    "    soup = BeautifulSoup(html, 'html.parser')\n",
    "    links = []\n",
    "    for h in soup.select('h2'):\n",
    "        if len(links) < number:\n",
    "            l = h.find('a').attrs['href']\n",
    "            links.append(l)\n",
    "    return links"
   ]
  },
  {
   "cell_type": "code",
   "execution_count": 242,
   "metadata": {},
   "outputs": [],
   "source": [
    "# собирает список ссылок с обеих страниц\n",
    "def parse_two_pages(link):\n",
    "    first_p = parse_page(link, 30)\n",
    "    second_p = parse_page(link+'&page=2', 20)\n",
    "    full_links = first_p + second_p   \n",
    "    return full_links"
   ]
  },
  {
   "cell_type": "code",
   "execution_count": 243,
   "metadata": {},
   "outputs": [],
   "source": [
    "# токенизация и начальная форма\n",
    "def process(text):\n",
    "    lem_text = []\n",
    "    for word in word_tokenize(text.lower()):\n",
    "        if word.isalpha():\n",
    "            result = morph.parse(word)[0]\n",
    "            lemma = result.normal_form\n",
    "            lem_text.append(lemma)\n",
    "    return lem_text"
   ]
  },
  {
   "cell_type": "code",
   "execution_count": 250,
   "metadata": {},
   "outputs": [],
   "source": [
    "# собирает текст отзывов в виде общего списка\n",
    "def grab_reviews(links):\n",
    "    revs = []\n",
    "    for link in links:\n",
    "        responce = session.get(link)\n",
    "        html = responce.text\n",
    "        soup = BeautifulSoup(html, 'html.parser')\n",
    "        review = soup.find('span', {'class': 'comment description'}).text\n",
    "        lem_rev = process(review)\n",
    "        revs = revs.append(lem_rev)\n",
    "    return revs"
   ]
  },
  {
   "cell_type": "code",
   "execution_count": 245,
   "metadata": {},
   "outputs": [],
   "source": [
    "good = 'https://www.otzyvru.com/pochta-rossii?rating=5'\n",
    "bad = 'https://www.otzyvru.com/pochta-rossii?rating=1'\n",
    "good_links = parse_two_pages(good)\n",
    "bad_links = parse_two_pages(bad)"
   ]
  },
  {
   "cell_type": "code",
   "execution_count": 246,
   "metadata": {},
   "outputs": [],
   "source": [
    "good_list = grab_reviews(good_links)\n",
    "bad_list = grab_reviews(bad_links)"
   ]
  },
  {
   "cell_type": "markdown",
   "metadata": {},
   "source": [
    "**Распределение слов**"
   ]
  },
  {
   "cell_type": "code",
   "execution_count": 125,
   "metadata": {},
   "outputs": [],
   "source": [
    "good_only = [g for g in good_list if g not in bad_list]\n",
    "bad_only = [b for b in bad_list if b not in good_list]"
   ]
  },
  {
   "cell_type": "code",
   "execution_count": 133,
   "metadata": {},
   "outputs": [],
   "source": [
    "def get_freqlist(word_list):\n",
    "    freqlist = Counter()\n",
    "    for word in word_list:\n",
    "        freqlist[word] += 1\n",
    "    return dict(freqlist.most_common(100))"
   ]
  },
  {
   "cell_type": "code",
   "execution_count": 159,
   "metadata": {},
   "outputs": [],
   "source": [
    "freqlists = {}\n",
    "good_freq = get_freqlist(good_only)\n",
    "bad_freq = get_freqlist(bad_only)\n",
    "freqlists['Это положительный отзыв'] = good_freq\n",
    "freqlists['Это отрицательный отзыв'] = bad_freq"
   ]
  },
  {
   "cell_type": "code",
   "execution_count": 270,
   "metadata": {},
   "outputs": [],
   "source": [
    "test_text = 'Спасибо за вашу ерунду. много очередей'"
   ]
  },
  {
   "cell_type": "code",
   "execution_count": 271,
   "metadata": {},
   "outputs": [],
   "source": [
    "def analyze(freqlists, text):\n",
    "  #создадим счётчик, который будет для каждого языка хранить информацию о том, сколько слов из поданного текста являются словами этого языка \n",
    "  #или нет \n",
    "    counts = Counter()\n",
    "    for sentiment, freqlist in freqlists.items():\n",
    "        freqlist = Counter(freqlist)\n",
    "        for word in text:\n",
    "            counts[sentiment] += int(freqlist[word] > 0)\n",
    "    result = counts.most_common()\n",
    "    nice_output = 'Вердикт: '+str(result[0][0])+' с шансами '+str(result[0][1])+' к '+str(result[1][1])\n",
    "    return result, nice_output"
   ]
  },
  {
   "cell_type": "code",
   "execution_count": 272,
   "metadata": {},
   "outputs": [
    {
     "name": "stdout",
     "output_type": "stream",
     "text": [
      "Вердикт: Это положительный отзыв с шансами 2 к 0\n"
     ]
    }
   ],
   "source": [
    "print(analyze(freqlists, process(test_text))[1])"
   ]
  },
  {
   "cell_type": "code",
   "execution_count": 220,
   "metadata": {},
   "outputs": [],
   "source": [
    "# собрать 10 тестовых текстов"
   ]
  },
  {
   "cell_type": "code",
   "execution_count": 256,
   "metadata": {},
   "outputs": [],
   "source": [
    "# отличается от grab_reviews() тем, что делает подсписки, а не всё в кучу\n",
    "def grab_test(links):\n",
    "    revs = []\n",
    "    for link in links:\n",
    "        responce = session.get(link)\n",
    "        html = responce.text\n",
    "        soup = BeautifulSoup(html, 'html.parser')\n",
    "        review = soup.find('span', {'class': 'comment description'}).text\n",
    "        lem_rev = process(review)\n",
    "        revs.append(lem_rev)\n",
    "    return revs"
   ]
  },
  {
   "cell_type": "code",
   "execution_count": 262,
   "metadata": {},
   "outputs": [],
   "source": [
    "def test_detection(freqlists):\n",
    "    test_list = []\n",
    "    gold = ['Это положительный отзыв']*5+['Это отрицательный отзыв']*5\n",
    "    results = []\n",
    "    test_links = ['https://www.otzyvru.com/pochta-rossii?rating=5&page=3','https://www.otzyvru.com/pochta-rossii?rating=1&page=3']\n",
    "    for link in test_links:\n",
    "        test_list += grab_test(parse_page(link, 5))\n",
    "    for text in test_list:\n",
    "        predicted_sentiment = analyze(freqlists, text)[0][0][0]\n",
    "        results.append(predicted_sentiment)\n",
    "    print(\"Accuracy: %.4f\" % accuracy_score(results, gold))"
   ]
  },
  {
   "cell_type": "code",
   "execution_count": 263,
   "metadata": {},
   "outputs": [
    {
     "name": "stdout",
     "output_type": "stream",
     "text": [
      "Accuracy: 0.8000\n"
     ]
    }
   ],
   "source": [
    "test_detection(freqlists)"
   ]
  },
  {
   "cell_type": "markdown",
   "metadata": {},
   "source": [
    "**Идеи улучшения кода:**"
   ]
  },
  {
   "cell_type": "code",
   "execution_count": null,
   "metadata": {},
   "outputs": [],
   "source": []
  }
 ],
 "metadata": {
  "kernelspec": {
   "display_name": "Python 3",
   "language": "python",
   "name": "python3"
  },
  "language_info": {
   "codemirror_mode": {
    "name": "ipython",
    "version": 3
   },
   "file_extension": ".py",
   "mimetype": "text/x-python",
   "name": "python",
   "nbconvert_exporter": "python",
   "pygments_lexer": "ipython3",
   "version": "3.7.3"
  }
 },
 "nbformat": 4,
 "nbformat_minor": 2
}
